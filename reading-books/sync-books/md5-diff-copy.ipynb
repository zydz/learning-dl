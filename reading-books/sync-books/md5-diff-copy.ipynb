{
 "cells": [
  {
   "cell_type": "code",
   "execution_count": null,
   "metadata": {},
   "outputs": [],
   "source": [
    "# input: folder path\n",
    "# output: dict for MD5 sum, such as {#md5sum: #filename}\n",
    "\n",
    "# Fixme: if there are more than one same PDF file, then `d[key]=path` overlope the former one\n",
    "def gen_md5_of_folder(folder): \n",
    "    # find all the PDFs \n",
    "    books = ! find \"$folder\" -type f | grep -i pdf  \n",
    " \n",
    "    # d as a dictionary for {#md5sum, #path } \n",
    "    d = dict()  \n",
    "    for book in books:  \n",
    "        md5 = !md5sum \"$book\"  \n",
    "        md5_str = \"\".join(md5)\n",
    "        print(md5_str)\n",
    "        \n",
    "        try: \n",
    "            #(key, path) = md5_str.split('  ./')  \n",
    "            (key, path) = md5_str.split('  ')\n",
    "            d[key]=path  \n",
    "        except ValueError: \n",
    "            print(\"ValueError:\".join(md5_str)) \n",
    "    return d"
   ]
  },
  {
   "cell_type": "code",
   "execution_count": null,
   "metadata": {},
   "outputs": [],
   "source": [
    "uname = !uname\n",
    "uname = (''.join(uname))"
   ]
  },
  {
   "cell_type": "markdown",
   "metadata": {},
   "source": [
    "#### md5 list for Linux"
   ]
  },
  {
   "cell_type": "code",
   "execution_count": null,
   "metadata": {
    "scrolled": false
   },
   "outputs": [],
   "source": [
    "if uname == 'Linux':\n",
    "    linux_dict = gen_md5_of_folder(\"/opt/Documents/ML/Books\") \n",
    "    # save to file linux.txt\n",
    "    linux_file = open(\"linux.txt\", 'w+')\n",
    "    linux_file.write(str(linux_dict))\n",
    "    linux_file.close()"
   ]
  },
  {
   "cell_type": "markdown",
   "metadata": {},
   "source": [
    "#### md5 list for MAC"
   ]
  },
  {
   "cell_type": "code",
   "execution_count": null,
   "metadata": {
    "scrolled": false
   },
   "outputs": [],
   "source": [
    "if uname == 'Darwin':\n",
    "    mac_dict = gen_md5_of_folder(\"/Users/zhou/Work/ML/Books\") \n",
    "    mac_file = open(\"mac.txt\", 'w+')\n",
    "    mac_file.write(str(mac_dict))\n",
    "    mac_file.close()"
   ]
  },
  {
   "cell_type": "markdown",
   "metadata": {},
   "source": [
    "#### Compare Mac and Linux "
   ]
  },
  {
   "cell_type": "code",
   "execution_count": null,
   "metadata": {},
   "outputs": [],
   "source": [
    "!pwd"
   ]
  },
  {
   "cell_type": "code",
   "execution_count": null,
   "metadata": {},
   "outputs": [],
   "source": [
    "# open\n",
    "f_l = open('linux.txt', 'rt')\n",
    "f_m = open('mac.txt', 'rt')\n",
    "\n",
    "# read\n",
    "s_l = f_l.read()\n",
    "s_m = f_m.read()\n",
    "\n",
    "# close\n",
    "f_l.close()\n",
    "f_m.close()\n",
    "\n",
    "# dict varibles\n",
    "exec(\"d_l=\"+s_l)\n",
    "exec(\"d_m=\"+s_m)\n",
    "\n",
    "# MD5 set\n",
    "set_l = set(d_l.keys())\n",
    "set_m = set(d_m.keys())\n",
    "\n",
    "print(set_l)\n",
    "\n",
    "# diff of sets\n",
    "print(\"Books on Linux only:\")\n",
    "set_r = set_l -set_m\n",
    "l2m_copy_list = list()\n",
    "for key in set_r:\n",
    "    l2m_copy_list.append(d_l[key])\n",
    "    print(d_l[key])\n",
    "print('-'*20)\n",
    "print(\"Books on Mac only:\")\n",
    "set_r = set_m -set_l\n",
    "m2l_copy_list = list()\n",
    "for key in set_r:\n",
    "    m2l_copy_list.append(d_m[key])\n",
    "    print(d_m[key])"
   ]
  },
  {
   "cell_type": "markdown",
   "metadata": {},
   "source": [
    "#### copy\n",
    "copy diff files into folder 0/"
   ]
  },
  {
   "cell_type": "code",
   "execution_count": null,
   "metadata": {},
   "outputs": [],
   "source": [
    "#!mkdir 0/\n",
    "\n",
    "if uname == 'Linux':\n",
    "    for f in l2m_copy_list:\n",
    "        ! cp \"$f\" 0/\n",
    "else:\n",
    "    for f in m2l_copy_list:\n",
    "        ! cp \"$f\" 0/"
   ]
  }
 ],
 "metadata": {
  "kernelspec": {
   "display_name": "Python 3",
   "language": "python",
   "name": "python3"
  },
  "language_info": {
   "codemirror_mode": {
    "name": "ipython",
    "version": 3
   },
   "file_extension": ".py",
   "mimetype": "text/x-python",
   "name": "python",
   "nbconvert_exporter": "python",
   "pygments_lexer": "ipython3",
   "version": "3.7.3"
  },
  "toc": {
   "base_numbering": 1,
   "nav_menu": {},
   "number_sections": true,
   "sideBar": true,
   "skip_h1_title": false,
   "title_cell": "Table of Contents",
   "title_sidebar": "Contents",
   "toc_cell": false,
   "toc_position": {},
   "toc_section_display": true,
   "toc_window_display": false
  }
 },
 "nbformat": 4,
 "nbformat_minor": 2
}
